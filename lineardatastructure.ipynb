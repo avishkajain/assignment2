{
  "nbformat": 4,
  "nbformat_minor": 0,
  "metadata": {
    "colab": {
      "provenance": []
    },
    "kernelspec": {
      "name": "python3",
      "display_name": "Python 3"
    },
    "language_info": {
      "name": "python"
    }
  },
  "cells": [
    {
      "cell_type": "code",
      "execution_count": 2,
      "metadata": {
        "colab": {
          "base_uri": "https://localhost:8080/"
        },
        "id": "cXxLjpi95U0n",
        "outputId": "4b2785ca-4534-449a-912b-3ed2c19f10fe"
      },
      "outputs": [
        {
          "output_type": "stream",
          "name": "stdout",
          "text": [
            "hi a\n",
            "hi v\n",
            "hi i\n",
            "hi s\n",
            "hi h\n",
            "hi k\n",
            "hi a\n"
          ]
        }
      ],
      "source": [
        "#PRACTICAL\n",
        "#1\n",
        "code=\"avishka\"\n",
        "for i in code:\n",
        "  print(\"hi\" ,i)\n"
      ]
    },
    {
      "cell_type": "code",
      "source": [
        "#2\n",
        "st=\"hello world\"\n",
        "print(len(st))\n"
      ],
      "metadata": {
        "colab": {
          "base_uri": "https://localhost:8080/"
        },
        "id": "tbt_gnaY6SKC",
        "outputId": "aa718350-982b-4225-cc9b-3af7facd1be2"
      },
      "execution_count": 3,
      "outputs": [
        {
          "output_type": "stream",
          "name": "stdout",
          "text": [
            "11\n"
          ]
        }
      ]
    },
    {
      "cell_type": "code",
      "source": [
        "#3\n",
        "st=\"python programming\"\n",
        "print(st[0:3])"
      ],
      "metadata": {
        "colab": {
          "base_uri": "https://localhost:8080/"
        },
        "id": "pUDXGuWD6wRb",
        "outputId": "af776f8c-6aba-481c-e8eb-d00b44684925"
      },
      "execution_count": 5,
      "outputs": [
        {
          "output_type": "stream",
          "name": "stdout",
          "text": [
            "pyt\n"
          ]
        }
      ]
    },
    {
      "cell_type": "code",
      "source": [
        "#4\n",
        "str=\"hello\"\n",
        "print(str.upper())"
      ],
      "metadata": {
        "colab": {
          "base_uri": "https://localhost:8080/"
        },
        "id": "vd9-HPvp7a2P",
        "outputId": "c6c6ab62-de12-4dc2-817d-2a021ce6b4fd"
      },
      "execution_count": 7,
      "outputs": [
        {
          "output_type": "stream",
          "name": "stdout",
          "text": [
            "HELLO\n"
          ]
        }
      ]
    },
    {
      "cell_type": "code",
      "source": [
        "#5\n",
        "str=\"i like apple\"\n",
        "print(str.replace(\"apple\",\"orange\"))"
      ],
      "metadata": {
        "colab": {
          "base_uri": "https://localhost:8080/"
        },
        "id": "8RnqVR0Z74l3",
        "outputId": "d9efc1f1-076d-4cd3-932a-5e5c513e93b2"
      },
      "execution_count": 9,
      "outputs": [
        {
          "output_type": "stream",
          "name": "stdout",
          "text": [
            "i like orange\n"
          ]
        }
      ]
    },
    {
      "cell_type": "code",
      "source": [
        "#6\n",
        "lis=[1,2,3,4,5]\n",
        "print(lis)"
      ],
      "metadata": {
        "colab": {
          "base_uri": "https://localhost:8080/"
        },
        "id": "Lc0yarHu8kGv",
        "outputId": "c9617213-dc6a-4687-d034-db0a2e1b6ba6"
      },
      "execution_count": 10,
      "outputs": [
        {
          "output_type": "stream",
          "name": "stdout",
          "text": [
            "[1, 2, 3, 4, 5]\n"
          ]
        }
      ]
    },
    {
      "cell_type": "code",
      "source": [
        "#7\n",
        "lis=[1,2,3,4]\n",
        "lis.append(10)\n",
        "print(lis)"
      ],
      "metadata": {
        "colab": {
          "base_uri": "https://localhost:8080/"
        },
        "id": "L4rrZ6A48kd5",
        "outputId": "dda10857-63cd-4dc9-ecdc-5cb2d5cbab01"
      },
      "execution_count": 12,
      "outputs": [
        {
          "output_type": "stream",
          "name": "stdout",
          "text": [
            "[1, 2, 3, 4, 10]\n"
          ]
        }
      ]
    },
    {
      "cell_type": "code",
      "source": [
        "#8\n",
        "lis=[1,2,3,4,5]\n",
        "lis.remove(3)\n",
        "print(lis)"
      ],
      "metadata": {
        "colab": {
          "base_uri": "https://localhost:8080/"
        },
        "id": "K2pL0Gg79EOQ",
        "outputId": "00326b55-4cc2-45be-9168-741f8da2dbdb"
      },
      "execution_count": 14,
      "outputs": [
        {
          "output_type": "stream",
          "name": "stdout",
          "text": [
            "[1, 2, 4, 5]\n"
          ]
        }
      ]
    },
    {
      "cell_type": "code",
      "source": [
        "#9\n",
        "lis=['a','b','c','d']\n",
        "print(lis[1])"
      ],
      "metadata": {
        "colab": {
          "base_uri": "https://localhost:8080/"
        },
        "id": "1qnbATdl9EYH",
        "outputId": "638bfa12-ab67-4637-ae5f-f0f81aeecc37"
      },
      "execution_count": 15,
      "outputs": [
        {
          "output_type": "stream",
          "name": "stdout",
          "text": [
            "b\n"
          ]
        }
      ]
    },
    {
      "cell_type": "code",
      "source": [
        "#10\n",
        "lis=[10,20,30,40,50]\n",
        "print(lis[::-1])"
      ],
      "metadata": {
        "colab": {
          "base_uri": "https://localhost:8080/"
        },
        "id": "QGBzyCKc9E0H",
        "outputId": "44377c74-21d5-4d42-f00b-1d47b964c38a"
      },
      "execution_count": 53,
      "outputs": [
        {
          "output_type": "stream",
          "name": "stdout",
          "text": [
            "[50, 40, 30, 20, 10]\n"
          ]
        }
      ]
    },
    {
      "cell_type": "code",
      "source": [
        "#11\n",
        "tup=(100,200,300)\n",
        "print(tup)"
      ],
      "metadata": {
        "colab": {
          "base_uri": "https://localhost:8080/"
        },
        "id": "3sOjAz-O-sJL",
        "outputId": "ff9760f4-2ce7-4c8a-9b20-66c8bbb58429"
      },
      "execution_count": 17,
      "outputs": [
        {
          "output_type": "stream",
          "name": "stdout",
          "text": [
            "(100, 200, 300)\n"
          ]
        }
      ]
    },
    {
      "cell_type": "code",
      "source": [
        "#12\n",
        "y=(\"red\",\"green\",\"blue\",\"yellow\")\n",
        "print(y[1:4])#for index[] even a tuple not ()"
      ],
      "metadata": {
        "colab": {
          "base_uri": "https://localhost:8080/"
        },
        "id": "ADfUrvCT-ytg",
        "outputId": "4a93a769-6e8f-490d-d08e-365184de1281"
      },
      "execution_count": 20,
      "outputs": [
        {
          "output_type": "stream",
          "name": "stdout",
          "text": [
            "('green', 'blue', 'yellow')\n"
          ]
        }
      ]
    },
    {
      "cell_type": "code",
      "source": [
        "#13\n",
        "tup=(10,20,5,15)\n",
        "print(min(tup))"
      ],
      "metadata": {
        "colab": {
          "base_uri": "https://localhost:8080/"
        },
        "id": "79wMwSeV-y56",
        "outputId": "295bf89d-dc93-495e-9295-ba337dce71fe"
      },
      "execution_count": 22,
      "outputs": [
        {
          "output_type": "stream",
          "name": "stdout",
          "text": [
            "5\n"
          ]
        }
      ]
    },
    {
      "cell_type": "code",
      "source": [
        "tup=(\"dog\",\"cat\",\"rabbit\")\n",
        "print(tup.index(\"cat\"))"
      ],
      "metadata": {
        "colab": {
          "base_uri": "https://localhost:8080/"
        },
        "id": "ts9GfE38-zEn",
        "outputId": "1662bc3b-9c6a-42f5-b484-2f43351cda27"
      },
      "execution_count": 23,
      "outputs": [
        {
          "output_type": "stream",
          "name": "stdout",
          "text": [
            "1\n"
          ]
        }
      ]
    },
    {
      "cell_type": "code",
      "source": [
        "#15\n",
        "tup=(\"aaple\",\"banana\",\"k\")\n",
        "for i in tup:\n",
        "  if i==\"kiwi\":\n",
        "    print(\"yes\")\n",
        "\n",
        "else:\n",
        "  print(\"not present\")\n"
      ],
      "metadata": {
        "colab": {
          "base_uri": "https://localhost:8080/"
        },
        "id": "211cbVGh-zN3",
        "outputId": "72eea862-016d-4214-e92b-78af6258916a"
      },
      "execution_count": 28,
      "outputs": [
        {
          "output_type": "stream",
          "name": "stdout",
          "text": [
            "not present\n"
          ]
        }
      ]
    },
    {
      "cell_type": "code",
      "source": [
        "#16\n",
        "se={1,2,3}\n",
        "print(type(se))\n",
        "print(se)"
      ],
      "metadata": {
        "colab": {
          "base_uri": "https://localhost:8080/"
        },
        "id": "9-IQQEnyCdW4",
        "outputId": "d713a35c-8920-4b74-dfcf-155631bc839d"
      },
      "execution_count": 29,
      "outputs": [
        {
          "output_type": "stream",
          "name": "stdout",
          "text": [
            "<class 'set'>\n",
            "{1, 2, 3}\n"
          ]
        }
      ]
    },
    {
      "cell_type": "code",
      "source": [
        "#17\n",
        "se={1,2,3,4,5}\n",
        "print(se.clear())"
      ],
      "metadata": {
        "colab": {
          "base_uri": "https://localhost:8080/"
        },
        "id": "CG00ujZDCde1",
        "outputId": "784faf01-c4c9-41b4-a4d3-08cd00bca066"
      },
      "execution_count": 30,
      "outputs": [
        {
          "output_type": "stream",
          "name": "stdout",
          "text": [
            "None\n"
          ]
        }
      ]
    },
    {
      "cell_type": "code",
      "source": [
        "#18\n",
        "se={1,2,3,4}\n",
        "se.remove(4)\n",
        "print(se)\n"
      ],
      "metadata": {
        "colab": {
          "base_uri": "https://localhost:8080/"
        },
        "id": "s7sgVZUcCdpe",
        "outputId": "ec16bd3d-f4fb-4d77-d000-d9c84fe8f7a7"
      },
      "execution_count": 32,
      "outputs": [
        {
          "output_type": "stream",
          "name": "stdout",
          "text": [
            "{1, 2, 3}\n"
          ]
        }
      ]
    },
    {
      "cell_type": "code",
      "source": [
        "#19\n",
        "s1={1,2,3}\n",
        "s2={3,4,5}\n",
        "print(s1|s2)"
      ],
      "metadata": {
        "colab": {
          "base_uri": "https://localhost:8080/"
        },
        "id": "3vt07N_KCd3H",
        "outputId": "a2b36ce1-4a17-42f2-ea1f-30177c636794"
      },
      "execution_count": 33,
      "outputs": [
        {
          "output_type": "stream",
          "name": "stdout",
          "text": [
            "{1, 2, 3, 4, 5}\n"
          ]
        }
      ]
    },
    {
      "cell_type": "code",
      "source": [
        "#20\n",
        "s1={1,2,3}\n",
        "s2={2,3,4}\n",
        "print(s1&s2)"
      ],
      "metadata": {
        "colab": {
          "base_uri": "https://localhost:8080/"
        },
        "id": "Y2XO0T33CeCm",
        "outputId": "3e430aea-4606-4c5b-c3da-0cba5323872c"
      },
      "execution_count": 34,
      "outputs": [
        {
          "output_type": "stream",
          "name": "stdout",
          "text": [
            "{2, 3}\n"
          ]
        }
      ]
    },
    {
      "cell_type": "code",
      "source": [
        "#21\n",
        "dic={\"name\":\"avi\",\"age\":20,\"city\":\"agra\"}\n",
        "print(dic)"
      ],
      "metadata": {
        "colab": {
          "base_uri": "https://localhost:8080/"
        },
        "id": "-LbP2wDtD0pL",
        "outputId": "9f0f9631-6e8d-4c22-b352-7ba05d27046b"
      },
      "execution_count": 35,
      "outputs": [
        {
          "output_type": "stream",
          "name": "stdout",
          "text": [
            "{'name': 'avi', 'age': 20, 'city': 'agra'}\n"
          ]
        }
      ]
    },
    {
      "cell_type": "code",
      "source": [
        "#22\n",
        "dic={\"name\":\"avi\",\"age\":20}\n",
        "dic1={\"country\":\"usa\"}\n",
        "dic.update(dic1)\n",
        "print(dic)\n"
      ],
      "metadata": {
        "colab": {
          "base_uri": "https://localhost:8080/"
        },
        "id": "nrLwXPZmD0wb",
        "outputId": "6e005baa-ddf8-4cc7-c8c1-5ee81a30952a"
      },
      "execution_count": 39,
      "outputs": [
        {
          "output_type": "stream",
          "name": "stdout",
          "text": [
            "{'name': 'avi', 'age': 20, 'country': 'usa'}\n"
          ]
        }
      ]
    },
    {
      "cell_type": "code",
      "source": [
        "#23\n",
        "dic={\"name\":\"alice\",\"age\":30}\n",
        "print(dic[\"name\"])"
      ],
      "metadata": {
        "colab": {
          "base_uri": "https://localhost:8080/"
        },
        "id": "CY1pDcssD06Z",
        "outputId": "7e2f89c0-0cc9-43b5-974c-eebf5c7dbba3"
      },
      "execution_count": 40,
      "outputs": [
        {
          "output_type": "stream",
          "name": "stdout",
          "text": [
            "alice\n"
          ]
        }
      ]
    },
    {
      "cell_type": "code",
      "source": [
        "#24\n",
        "dic={\"name\":\"bob\",\"age\":30,\"country\":\"usa\"}\n",
        "del dic[\"name\"]\n",
        "print(dic)"
      ],
      "metadata": {
        "colab": {
          "base_uri": "https://localhost:8080/"
        },
        "id": "ceNmtOgjD1Hk",
        "outputId": "68f1a50a-946f-4749-bf6c-1b13dc8cfa40"
      },
      "execution_count": 44,
      "outputs": [
        {
          "output_type": "stream",
          "name": "stdout",
          "text": [
            "{'age': 30, 'country': 'usa'}\n"
          ]
        }
      ]
    },
    {
      "cell_type": "code",
      "source": [
        "#25#\n",
        "dic={\"name\":\"alice\",\"city\":\"usa\"}\n",
        "dic1=dic.keys()\n",
        "print(dic1)\n",
        "if \"city\" in dic:\n",
        "\n",
        "    print(\"present\")\n",
        "else:\n",
        "  print(\"not present\")\n",
        "\n",
        "\n"
      ],
      "metadata": {
        "colab": {
          "base_uri": "https://localhost:8080/"
        },
        "id": "BYANK-qXD1cl",
        "outputId": "0623590e-145e-4cd8-8a8f-969a19991e73"
      },
      "execution_count": 55,
      "outputs": [
        {
          "output_type": "stream",
          "name": "stdout",
          "text": [
            "dict_keys(['name', 'city'])\n",
            "present\n"
          ]
        }
      ]
    },
    {
      "cell_type": "code",
      "source": [
        "#26\n",
        "lis=[1,2,3]\n",
        "print(lis)\n",
        "yup=(1,2,3)\n",
        "print(yup)\n",
        "dic={\"name\":\"avi\"}\n",
        "print(dic)"
      ],
      "metadata": {
        "colab": {
          "base_uri": "https://localhost:8080/"
        },
        "id": "BIKkFGGqD1wG",
        "outputId": "9fda9534-805b-48c9-a7c9-9e26ee903dbf"
      },
      "execution_count": 48,
      "outputs": [
        {
          "output_type": "stream",
          "name": "stdout",
          "text": [
            "[1, 2, 3]\n",
            "(1, 2, 3)\n",
            "{'name': 'avi'}\n"
          ]
        }
      ]
    },
    {
      "cell_type": "code",
      "source": [
        "#27\n",
        "import random\n",
        "r=[random.randint(1,100) for _ in range(5)]\n",
        "r.sort()\n",
        "print(r)\n"
      ],
      "metadata": {
        "colab": {
          "base_uri": "https://localhost:8080/"
        },
        "id": "4sa2__jED18G",
        "outputId": "0d7b7eb1-be46-4175-a61a-7e1c5b1012c7"
      },
      "execution_count": 61,
      "outputs": [
        {
          "output_type": "stream",
          "name": "stdout",
          "text": [
            "[19, 62, 78, 85, 87]\n"
          ]
        }
      ]
    },
    {
      "cell_type": "code",
      "source": [
        "#28\n",
        "lis=[\"apple\",\"banana\",\"kaju\",\"makhana\"]\n",
        "print(lis[3])"
      ],
      "metadata": {
        "colab": {
          "base_uri": "https://localhost:8080/"
        },
        "id": "J-qTrRqcD2S3",
        "outputId": "d7222fb7-b026-4a77-90b9-2e2cc607654d"
      },
      "execution_count": 57,
      "outputs": [
        {
          "output_type": "stream",
          "name": "stdout",
          "text": [
            "makhana\n"
          ]
        }
      ]
    },
    {
      "cell_type": "code",
      "source": [
        "\n",
        "#29\n",
        "dic={\"a\":\"nb\"}\n",
        "di1={\"age\":12}\n",
        "dic.update(di1)\n",
        "print(dic)"
      ],
      "metadata": {
        "colab": {
          "base_uri": "https://localhost:8080/"
        },
        "id": "pFRKWfWQD2kw",
        "outputId": "985fa012-bb3a-49a5-cd95-ec98be3acf2d"
      },
      "execution_count": 52,
      "outputs": [
        {
          "output_type": "stream",
          "name": "stdout",
          "text": [
            "{'a': 'nb', 'age': 12}\n"
          ]
        }
      ]
    },
    {
      "cell_type": "code",
      "source": [
        "#30\n",
        "lis=[\"apple\",\"banana\",\"banana\"]\n",
        "s=set(lis)\n",
        "print(s)"
      ],
      "metadata": {
        "colab": {
          "base_uri": "https://localhost:8080/"
        },
        "id": "MHUrf_4iD21W",
        "outputId": "266a4beb-e427-41d2-a40b-94a427030ccd"
      },
      "execution_count": 50,
      "outputs": [
        {
          "output_type": "stream",
          "name": "stdout",
          "text": [
            "{'apple', 'banana'}\n"
          ]
        }
      ]
    },
    {
      "cell_type": "markdown",
      "source": [
        "#THEORY QUESTIONS\n",
        "#ANSWER1\n",
        "data structure is a container in which we can store data in an organised and sequential way.so that data can be accessed efficiently.\n",
        "\n",
        "#answer2\n",
        "mutables data types can be modified\n",
        "ex.lis=[1,2,3]\n",
        "lis.append(3)\n",
        "immutable data types cannot be modified\n",
        "ex.tup=(1,2,3)\n",
        "tup.append(5)\n",
        "\n",
        "#answer3\n",
        "tuple are immutable which cannot be modified\n",
        "while\n",
        "listd are mutable which can be modified\n",
        "\n",
        "#answer4\n",
        "dictionaries store data in the form of keys and vaues\n",
        "ex.dic={\"key\":\"value\"}\n",
        "\n",
        "#answer5\n",
        "set avoid repeatation and have much more operations\n",
        "\n",
        "#answer6\n",
        "list is a sequence of characters in python and it is different from list that it is immutable\n",
        "\n",
        "#answer7\n",
        "tuple ensures data integrity because they are immutable cannot be modified so they are accurate,consistent and allows data integrity\n",
        "\n",
        "#answer8\n",
        "hash table are the set of key and value which is associated to a particular loction and we use this in dictionary\n",
        "\n",
        "#answer9\n",
        "yes\n",
        "#answer10\n",
        "because it can support data integrity and have same hash value\n",
        "\n",
        "#answer11\n",
        "complex data organisation\n",
        "searching\n",
        "faster element retrival\n",
        "\n",
        "#answer12\n",
        "when we wanted a data to not be modified then we will use a tuple over list\n",
        "\n",
        "#answer13\n",
        "usually set donot allow to store duplicate values but we can store it by changing data type or by changing it to upper or lowercase becuase python is case sensitive\n",
        "#answer14\n",
        "in lists,in keyword used weather a certain value present or not\n",
        "in dictionary it works over keys\n",
        "\n",
        "#answer15\n",
        "\n",
        "we cannot modify the elements of tuple bacuse they are immutable\n",
        "\n",
        "#answer16\n",
        "dictionary inside dictionary is nested\n",
        "\n",
        "{dic:{age:20,course:pw}}\n",
        "done at valuesside\n",
        "\n",
        "#answer17\n",
        "they use hash table\n",
        "O(1)\n",
        "\n",
        "#answer18\n",
        "better for index based operations\n",
        "list maintain order\n",
        "can contain duplicate values\n",
        "sequential collection of data\n",
        "\n",
        "#answer19\n",
        "order depends on hash values which donot follow te order of insertion\n",
        "no retrival doesnot affect by order\n",
        "\n",
        "#answer20\n",
        "lists access by indec and dictionary by key\n",
        "access speed is almost same O(1)\n"
      ],
      "metadata": {
        "id": "BsqbCb47KjTi"
      }
    }
  ]
}